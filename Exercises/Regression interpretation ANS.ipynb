{
 "cells": [
  {
   "cell_type": "markdown",
   "metadata": {},
   "source": [
    "# THIS FILE IS IN THE HANDOUTS FOLDER. COPY IT INTO YOUR CLASS NOTES\n",
    "\n",
    "- [**Read the chapter on the website!**](https://ledatascifi.github.io/ledatascifi-2024/content/05/02_reg.html) It contains a lot of extra information we won't cover in class extensively.\n",
    "- After reading that, I recommend [this webpage as a complimentary place to get additional intuition.](https://aeturrell.github.io/coding-for-economists/econmt-regression.html)\n",
    "\n",
    "## Today\n",
    "\n",
    "[Finish picking teams and declare initial project interests in the project sheet](https://docs.google.com/spreadsheets/d/1SMetWKgI3JdhFdBwihDgIY3BDubvihkJCWbgLcCe4fs/edit?usp=sharing)\n"
   ]
  },
  {
   "cell_type": "markdown",
   "metadata": {},
   "source": [
    "# Today is mostly about INTERPRETING COEFFICIENTS (6.4 in the book)\n",
    "\n",
    "1. 25 min reading groups: Talk/read through two regression pages (6.3 and 6.4) \n",
    "    - Assemble your own notes. Perhaps in the \"Module 4 notes\" file, but you can do this in any file you want.\n",
    "    - After class, each group will email their notes to the TA/me for participation. (Effort grading.)\n",
    "1. 10 min: class builds joint \"big takeaways and nuanced observations\" \n",
    "1. 5 min: Interpret models 1-2 as class as practice. \n",
    "1. 20 min reading groups: Work through remaining problems below.\n",
    "1. 10 min: wrap up  \n",
    "\n",
    "---"
   ]
  },
  {
   "cell_type": "code",
   "execution_count": 1,
   "metadata": {},
   "outputs": [],
   "source": [
    "import pandas as pd\n",
    "from statsmodels.formula.api import ols as sm_ols\n",
    "import numpy as np\n",
    "import seaborn as sns\n",
    "from statsmodels.iolib.summary2 import summary_col # nicer tables\n"
   ]
  },
  {
   "cell_type": "code",
   "execution_count": 2,
   "metadata": {},
   "outputs": [],
   "source": [
    "url = 'https://github.com/LeDataSciFi/ledatascifi-2024/blob/main/data/Fannie_Mae_Plus_Data.gzip?raw=true'\n",
    "fannie_mae = pd.read_csv(url,compression='gzip') "
   ]
  },
  {
   "cell_type": "markdown",
   "metadata": {},
   "source": [
    "## Clean the data and create variables you want"
   ]
  },
  {
   "cell_type": "code",
   "execution_count": 3,
   "metadata": {},
   "outputs": [],
   "source": [
    "fannie_mae = (fannie_mae\n",
    "                  # create variables\n",
    "                  .assign(l_credscore = np.log(fannie_mae['Borrower_Credit_Score_at_Origination']),\n",
    "                          l_LTV = np.log(fannie_mae['Original_LTV_(OLTV)']),\n",
    "                          l_int = np.log(fannie_mae['Original_Interest_Rate']),\n",
    "                          Origination_Date = lambda x: pd.to_datetime(x['Origination_Date']),\n",
    "                          Origination_Year = lambda x: x['Origination_Date'].dt.year,\n",
    "                          const = 1\n",
    "                         )\n",
    "                  .rename(columns={'Original_Interest_Rate':'int'}) # shorter name will help the table formatting\n",
    "             )\n",
    "\n",
    "# create a categorical credit bin var with \"pd.cut()\"\n",
    "fannie_mae['creditbins']= pd.cut(fannie_mae['Co-borrower_credit_score_at_origination'],\n",
    "                                 [0,579,669,739,799,850],\n",
    "                                 labels=['Very Poor','Fair','Good','Very Good','Exceptional'])\n"
   ]
  },
  {
   "cell_type": "code",
   "execution_count": 7,
   "metadata": {},
   "outputs": [
    {
     "data": {
      "text/plain": [
       "0    80.0\n",
       "Name: Original_LTV_(OLTV), dtype: float64"
      ]
     },
     "execution_count": 7,
     "metadata": {},
     "output_type": "execute_result"
    }
   ],
   "source": [
    "fannie_mae['Original_LTV_(OLTV)'].mode() "
   ]
  },
  {
   "cell_type": "markdown",
   "metadata": {},
   "source": [
    "## Statsmodels\n",
    "\n",
    "As before, the psuedocode:\n",
    "```python\n",
    "model = sm_ols(<formula>, data=<dataframe>)\n",
    "result=model.fit()\n",
    "\n",
    "# you use result to print summary, get predicted values (.predict) or residuals (.resid)\n",
    "```\n",
    "\n",
    "Now, let's save each regression's result with a different name, and below this, output them all in one nice table:"
   ]
  },
  {
   "cell_type": "code",
   "execution_count": 4,
   "metadata": {},
   "outputs": [],
   "source": [
    "# one var: 'y ~ x' means fit y = a + b*X\n",
    "\n",
    "reg1 = sm_ols('int ~  Borrower_Credit_Score_at_Origination ', data=fannie_mae).fit()\n",
    "\n",
    "reg1b= sm_ols('int ~  l_credscore  ',  data=fannie_mae).fit()\n",
    "\n",
    "reg1c= sm_ols('l_int ~  Borrower_Credit_Score_at_Origination  ',  data=fannie_mae).fit()\n",
    "\n",
    "reg1d= sm_ols('l_int ~  l_credscore  ',  data=fannie_mae).fit()\n",
    "\n",
    "# multiple variables: just add them to the formula\n",
    "# 'y ~ x1 + x2' means fit y = a + b*x1 + c*x2\n",
    "reg2 = sm_ols('int ~  l_credscore + l_LTV ',  data=fannie_mae).fit()\n",
    "\n",
    "# interaction terms: Just use *\n",
    "# Note: always include each variable separately too! (not just x1*x2, but x1+x2+x1*x2)\n",
    "reg3 = sm_ols('int ~  l_credscore + l_LTV + l_credscore*l_LTV',  data=fannie_mae).fit()\n",
    "      \n",
    "# categorical dummies: C() \n",
    "reg4 = sm_ols('int ~  C(creditbins)  ',  data=fannie_mae).fit()\n",
    "\n",
    "reg5 = sm_ols('int ~  C(creditbins)  -1', data=fannie_mae).fit()\n"
   ]
  },
  {
   "cell_type": "code",
   "execution_count": 5,
   "metadata": {},
   "outputs": [
    {
     "data": {
      "text/html": [
       "<table class=\"simpletable\">\n",
       "<caption>OLS Regression Results</caption>\n",
       "<tr>\n",
       "  <th>Dep. Variable:</th>          <td>l_int</td>      <th>  R-squared:         </th> <td>   0.126</td> \n",
       "</tr>\n",
       "<tr>\n",
       "  <th>Model:</th>                   <td>OLS</td>       <th>  Adj. R-squared:    </th> <td>   0.126</td> \n",
       "</tr>\n",
       "<tr>\n",
       "  <th>Method:</th>             <td>Least Squares</td>  <th>  F-statistic:       </th> <td>1.941e+04</td>\n",
       "</tr>\n",
       "<tr>\n",
       "  <th>Date:</th>             <td>Wed, 27 Mar 2024</td> <th>  Prob (F-statistic):</th>  <td>  0.00</td>  \n",
       "</tr>\n",
       "<tr>\n",
       "  <th>Time:</th>                 <td>12:06:26</td>     <th>  Log-Likelihood:    </th> <td>  3177.4</td> \n",
       "</tr>\n",
       "<tr>\n",
       "  <th>No. Observations:</th>      <td>134481</td>      <th>  AIC:               </th> <td>  -6351.</td> \n",
       "</tr>\n",
       "<tr>\n",
       "  <th>Df Residuals:</th>          <td>134479</td>      <th>  BIC:               </th> <td>  -6331.</td> \n",
       "</tr>\n",
       "<tr>\n",
       "  <th>Df Model:</th>              <td>     1</td>      <th>                     </th>     <td> </td>    \n",
       "</tr>\n",
       "<tr>\n",
       "  <th>Covariance Type:</th>      <td>nonrobust</td>    <th>                     </th>     <td> </td>    \n",
       "</tr>\n",
       "</table>\n",
       "<table class=\"simpletable\">\n",
       "<tr>\n",
       "                    <td></td>                      <th>coef</th>     <th>std err</th>      <th>t</th>      <th>P>|t|</th>  <th>[0.025</th>    <th>0.975]</th>  \n",
       "</tr>\n",
       "<tr>\n",
       "  <th>Intercept</th>                            <td>    2.8713</td> <td>    0.009</td> <td>  319.817</td> <td> 0.000</td> <td>    2.854</td> <td>    2.889</td>\n",
       "</tr>\n",
       "<tr>\n",
       "  <th>Borrower_Credit_Score_at_Origination</th> <td>   -0.0017</td> <td> 1.21e-05</td> <td> -139.317</td> <td> 0.000</td> <td>   -0.002</td> <td>   -0.002</td>\n",
       "</tr>\n",
       "</table>\n",
       "<table class=\"simpletable\">\n",
       "<tr>\n",
       "  <th>Omnibus:</th>       <td>1969.599</td> <th>  Durbin-Watson:     </th> <td>   0.445</td>\n",
       "</tr>\n",
       "<tr>\n",
       "  <th>Prob(Omnibus):</th>  <td> 0.000</td>  <th>  Jarque-Bera (JB):  </th> <td>1514.883</td>\n",
       "</tr>\n",
       "<tr>\n",
       "  <th>Skew:</th>           <td>-0.175</td>  <th>  Prob(JB):          </th> <td>    0.00</td>\n",
       "</tr>\n",
       "<tr>\n",
       "  <th>Kurtosis:</th>       <td> 2.615</td>  <th>  Cond. No.          </th> <td>1.04e+04</td>\n",
       "</tr>\n",
       "</table><br/><br/>Notes:<br/>[1] Standard Errors assume that the covariance matrix of the errors is correctly specified.<br/>[2] The condition number is large, 1.04e+04. This might indicate that there are<br/>strong multicollinearity or other numerical problems."
      ],
      "text/latex": [
       "\\begin{center}\n",
       "\\begin{tabular}{lclc}\n",
       "\\toprule\n",
       "\\textbf{Dep. Variable:}                           &      l\\_int      & \\textbf{  R-squared:         } &     0.126   \\\\\n",
       "\\textbf{Model:}                                   &       OLS        & \\textbf{  Adj. R-squared:    } &     0.126   \\\\\n",
       "\\textbf{Method:}                                  &  Least Squares   & \\textbf{  F-statistic:       } & 1.941e+04   \\\\\n",
       "\\textbf{Date:}                                    & Wed, 27 Mar 2024 & \\textbf{  Prob (F-statistic):} &     0.00    \\\\\n",
       "\\textbf{Time:}                                    &     12:06:26     & \\textbf{  Log-Likelihood:    } &    3177.4   \\\\\n",
       "\\textbf{No. Observations:}                        &      134481      & \\textbf{  AIC:               } &    -6351.   \\\\\n",
       "\\textbf{Df Residuals:}                            &      134479      & \\textbf{  BIC:               } &    -6331.   \\\\\n",
       "\\textbf{Df Model:}                                &           1      & \\textbf{                     } &             \\\\\n",
       "\\textbf{Covariance Type:}                         &    nonrobust     & \\textbf{                     } &             \\\\\n",
       "\\bottomrule\n",
       "\\end{tabular}\n",
       "\\begin{tabular}{lcccccc}\n",
       "                                                  & \\textbf{coef} & \\textbf{std err} & \\textbf{t} & \\textbf{P$> |$t$|$} & \\textbf{[0.025} & \\textbf{0.975]}  \\\\\n",
       "\\midrule\n",
       "\\textbf{Intercept}                                &       2.8713  &        0.009     &   319.817  &         0.000        &        2.854    &        2.889     \\\\\n",
       "\\textbf{Borrower\\_Credit\\_Score\\_at\\_Origination} &      -0.0017  &     1.21e-05     &  -139.317  &         0.000        &       -0.002    &       -0.002     \\\\\n",
       "\\bottomrule\n",
       "\\end{tabular}\n",
       "\\begin{tabular}{lclc}\n",
       "\\textbf{Omnibus:}       & 1969.599 & \\textbf{  Durbin-Watson:     } &    0.445  \\\\\n",
       "\\textbf{Prob(Omnibus):} &   0.000  & \\textbf{  Jarque-Bera (JB):  } & 1514.883  \\\\\n",
       "\\textbf{Skew:}          &  -0.175  & \\textbf{  Prob(JB):          } &     0.00  \\\\\n",
       "\\textbf{Kurtosis:}      &   2.615  & \\textbf{  Cond. No.          } & 1.04e+04  \\\\\n",
       "\\bottomrule\n",
       "\\end{tabular}\n",
       "%\\caption{OLS Regression Results}\n",
       "\\end{center}\n",
       "\n",
       "Notes: \\newline\n",
       " [1] Standard Errors assume that the covariance matrix of the errors is correctly specified. \\newline\n",
       " [2] The condition number is large, 1.04e+04. This might indicate that there are \\newline\n",
       " strong multicollinearity or other numerical problems."
      ],
      "text/plain": [
       "<class 'statsmodels.iolib.summary.Summary'>\n",
       "\"\"\"\n",
       "                            OLS Regression Results                            \n",
       "==============================================================================\n",
       "Dep. Variable:                  l_int   R-squared:                       0.126\n",
       "Model:                            OLS   Adj. R-squared:                  0.126\n",
       "Method:                 Least Squares   F-statistic:                 1.941e+04\n",
       "Date:                Wed, 27 Mar 2024   Prob (F-statistic):               0.00\n",
       "Time:                        12:06:26   Log-Likelihood:                 3177.4\n",
       "No. Observations:              134481   AIC:                            -6351.\n",
       "Df Residuals:                  134479   BIC:                            -6331.\n",
       "Df Model:                           1                                         \n",
       "Covariance Type:            nonrobust                                         \n",
       "========================================================================================================\n",
       "                                           coef    std err          t      P>|t|      [0.025      0.975]\n",
       "--------------------------------------------------------------------------------------------------------\n",
       "Intercept                                2.8713      0.009    319.817      0.000       2.854       2.889\n",
       "Borrower_Credit_Score_at_Origination    -0.0017   1.21e-05   -139.317      0.000      -0.002      -0.002\n",
       "==============================================================================\n",
       "Omnibus:                     1969.599   Durbin-Watson:                   0.445\n",
       "Prob(Omnibus):                  0.000   Jarque-Bera (JB):             1514.883\n",
       "Skew:                          -0.175   Prob(JB):                         0.00\n",
       "Kurtosis:                       2.615   Cond. No.                     1.04e+04\n",
       "==============================================================================\n",
       "\n",
       "Notes:\n",
       "[1] Standard Errors assume that the covariance matrix of the errors is correctly specified.\n",
       "[2] The condition number is large, 1.04e+04. This might indicate that there are\n",
       "strong multicollinearity or other numerical problems.\n",
       "\"\"\""
      ]
     },
     "execution_count": 5,
     "metadata": {},
     "output_type": "execute_result"
    }
   ],
   "source": [
    "reg1c.summary()"
   ]
  },
  {
   "cell_type": "markdown",
   "metadata": {},
   "source": [
    "Ok, time to output them:"
   ]
  },
  {
   "cell_type": "code",
   "execution_count": 5,
   "metadata": {},
   "outputs": [
    {
     "name": "stdout",
     "output_type": "stream",
     "text": [
      "============================================================================================================\n",
      "                  y = interest rate if not specified, log(interest rate else)\n",
      "\n",
      "============================================================================================================\n",
      "                                        1        2      3 (log) 4 (log)     5         6        7        8   \n",
      "------------------------------------------------------------------------------------------------------------\n",
      "Intercept                            11.58*** 45.37*** 2.87***  9.50***  44.13*** -16.81*** 6.65***         \n",
      "                                     (0.05)   (0.29)   (0.01)   (0.06)   (0.30)   (4.11)    (0.08)          \n",
      "Borrower_Credit_Score_at_Origination -0.01***          -0.00***                                             \n",
      "                                     (0.00)            (0.00)                                               \n",
      "l_credscore                                   -6.07***          -1.19*** -5.99*** 3.22***                   \n",
      "                                              (0.04)            (0.01)   (0.04)   (0.62)                    \n",
      "l_LTV                                                                    0.15***  14.61***                  \n",
      "                                                                         (0.01)   (0.97)                    \n",
      "l_credscore:l_LTV                                                                 -2.18***                  \n",
      "                                                                                  (0.15)                    \n",
      "C(creditbins)[Very Poor]                                                                             6.65***\n",
      "                                                                                                     (0.08) \n",
      "C(creditbins)[Fair]                                                                         -0.63*** 6.02***\n",
      "                                                                                            (0.08)   (0.02) \n",
      "C(creditbins)[Good]                                                                         -1.17*** 5.48***\n",
      "                                                                                            (0.08)   (0.01) \n",
      "C(creditbins)[Exceptional]                                                                  -2.25*** 4.40***\n",
      "                                                                                            (0.08)   (0.01) \n",
      "C(creditbins)[Very Good]                                                                    -1.65*** 5.00***\n",
      "                                                                                            (0.08)   (0.01) \n",
      "R-squared                            0.13     0.12     0.13     0.12     0.13     0.13      0.11     0.11   \n",
      "R-squared Adj.                       0.13     0.12     0.13     0.12     0.13     0.13      0.11     0.11   \n",
      "R-squared                            0.13     0.12     0.13     0.12     0.13     0.13      0.11     0.11   \n",
      "Adj R-squared                        0.13     0.12     0.13     0.12     0.13     0.13      0.11     0.11   \n",
      "No. observations                     134481   134481   134481   134481   134481   134481    67366    67366  \n",
      "============================================================================================================\n",
      "Standard errors in parentheses.\n",
      "* p<.1, ** p<.05, ***p<.01\n"
     ]
    }
   ],
   "source": [
    "# now I'll format an output table\n",
    "# I'd like to include extra info in the table (not just coefficients)\n",
    "info_dict={'R-squared' : lambda x: f\"{x.rsquared:.2f}\",\n",
    "           'Adj R-squared' : lambda x: f\"{x.rsquared_adj:.2f}\",\n",
    "           'No. observations' : lambda x: f\"{int(x.nobs):d}\"}\n",
    "\n",
    "# q4b1 and q4b2 name the dummies differently in the table, so this is a silly fix\n",
    "reg4.model.exog_names[1:] = reg5.model.exog_names[1:]  \n",
    "\n",
    "# This summary col function combines a bunch of regressions into one nice table\n",
    "print('='*108)\n",
    "print('                  y = interest rate if not specified, log(interest rate else)')\n",
    "print(summary_col(results=[reg1,reg1b,reg1c,reg1d,reg2,reg3,reg4,reg5], # list the result obj here\n",
    "                  float_format='%0.2f',\n",
    "                  stars = True, # stars are easy way to see if anything is statistically significant\n",
    "                  model_names=['1','2',' 3 (log)','4 (log)','5','6','7','8'], # these are bad names, lol. Usually, just use the y variable name\n",
    "                  info_dict=info_dict,\n",
    "                  regressor_order=[ 'Intercept','Borrower_Credit_Score_at_Origination','l_credscore','l_LTV','l_credscore:l_LTV',\n",
    "                                  'C(creditbins)[Very Poor]','C(creditbins)[Fair]','C(creditbins)[Good]','C(creditbins)[Vrey Good]','C(creditbins)[Exceptional]']\n",
    "                  )\n",
    "     )"
   ]
  },
  {
   "cell_type": "markdown",
   "metadata": {},
   "source": [
    "# Today. Work in groups. Refer to the lectures. \n",
    "\n",
    "You might need to print out a few individual regressions with more decimals.\n",
    "\n",
    "1. Interpret coefs in model 1-4\n",
    "1. Interpret coefs in model 5\n",
    "1. Interpret coefs in model 6 (and visually?)\n",
    "1. Interpret coefs in model 7 (and visually? + comp to table)\n",
    "1. Interpret coefs in model 8 (and visually? + comp to table)\n",
    "1. Add l_LTV  to Model 8 and interpret (and visually?)\n",
    "\n",
    "\n",
    "\n"
   ]
  },
  {
   "cell_type": "markdown",
   "metadata": {},
   "source": [
    "Model 1\n",
    "- Intercept: A borrower with a credit score of 0 has an int rate of 11.58 on average in the data\n",
    "- Beta: A one unit increase in credit score, is associated with a 0.01 p.p. decline in int rate (1 b.p., 0.01 p.p.)\n",
    "- If score = 700, 4.58% int\n",
    "- If 701 --> 4.57  (X up one unit)\n",
    "- If 707 --> 4.51  (X up one %)  (down 7b.p.)"
   ]
  },
  {
   "cell_type": "code",
   "execution_count": 6,
   "metadata": {},
   "outputs": [
    {
     "data": {
      "text/plain": [
       "4.58"
      ]
     },
     "execution_count": 6,
     "metadata": {},
     "output_type": "execute_result"
    }
   ],
   "source": [
    "11.58-0.01 * 700"
   ]
  },
  {
   "cell_type": "code",
   "execution_count": 7,
   "metadata": {},
   "outputs": [
    {
     "data": {
      "text/plain": [
       "4.57"
      ]
     },
     "execution_count": 7,
     "metadata": {},
     "output_type": "execute_result"
    }
   ],
   "source": [
    "11.58-0.01 * 701"
   ]
  },
  {
   "cell_type": "markdown",
   "metadata": {},
   "source": [
    "Model 2: \n",
    "- Intercept: A borrower with a credit score of 0 has an int rate of 45.37 on average in the data\n",
    "- Beta: A one percent increase in credit score, is associated with a 0.0607 p.p. decline in int rate \n",
    "- If score = 700, 5.67% int\n",
    "- If 707 --> 5.61 (X up one %) (x down 6b.p.)\n"
   ]
  },
  {
   "cell_type": "code",
   "execution_count": 9,
   "metadata": {},
   "outputs": [
    {
     "data": {
      "text/plain": [
       "5.610154164666767"
      ]
     },
     "execution_count": 9,
     "metadata": {},
     "output_type": "execute_result"
    }
   ],
   "source": [
    "import numpy as np\n",
    "45.37 - 6.06*np.log(700)\n",
    "45.37 - 6.06*np.log(707)"
   ]
  },
  {
   "cell_type": "markdown",
   "metadata": {},
   "source": [
    "Model 3:\n",
    "\n",
    "- Intercept: A borrower with a credit score of 0 has an int rate of 17.63 on average in the data\n",
    "- Beta: A one unit increase in credit score, is associated with a 0.17% decline in int rate\n",
    "- If score = 700, 5.37% int\n",
    "- If 707 --> 5.30 (X up seven unit) (x down 6b.p.)"
   ]
  },
  {
   "cell_type": "code",
   "execution_count": 18,
   "metadata": {},
   "outputs": [
    {
     "data": {
      "text/plain": [
       "5.302084260759588"
      ]
     },
     "execution_count": 18,
     "metadata": {},
     "output_type": "execute_result"
    }
   ],
   "source": [
    "np.exp(2.87)\n",
    "np.exp(2.87-0.0017*700)\n",
    "5.37*(1-0.0017)**7   # proportional change, 7 times \n",
    "np.exp(2.87-0.0017*707)\n"
   ]
  },
  {
   "cell_type": "markdown",
   "metadata": {},
   "source": [
    "Model 4:\n",
    "\n",
    "- Intercept: A borrower with a credit score of 1 has an int rate of HIGH (meaningless) on average in the data\n",
    "- Beta: A one percent increase in credit score, is associated with a 1.19% decline in int rate\n",
    "- If score = 700, 5.49% int\n",
    "- If 707 --> 5.43 (X up seven unit) (x down 6b.p.)"
   ]
  },
  {
   "cell_type": "code",
   "execution_count": 23,
   "metadata": {},
   "outputs": [
    {
     "data": {
      "text/plain": [
       "5.432359161191803"
      ]
     },
     "execution_count": 23,
     "metadata": {},
     "output_type": "execute_result"
    }
   ],
   "source": [
    "np.exp(9.5)\n",
    "np.exp(9.5 - 1.19*np.log(700))\n",
    "np.exp(9.5 - 1.19*np.log(707))\n"
   ]
  },
  {
   "cell_type": "markdown",
   "metadata": {},
   "source": [
    "Model 5 - dhrunal, jimmy + danny \n",
    "\n",
    "- Beta: A one percent increase in credit score, is associated with a 0.0599 p.p. (5.99 b.p.) decline in int rate, **holding all other variables (logLTV) constant**\n",
    "- If score = 700, 4.72% int\n",
    "- If 707 --> 4.66 (X up one %) (x down 6b.p.)\n",
    "\n"
   ]
  },
  {
   "cell_type": "code",
   "execution_count": null,
   "metadata": {},
   "outputs": [],
   "source": [
    "# using the mean LTV in the data (.7)"
   ]
  },
  {
   "cell_type": "code",
   "execution_count": 9,
   "metadata": {},
   "outputs": [
    {
     "data": {
      "text/plain": [
       "4.725557260392872"
      ]
     },
     "execution_count": 9,
     "metadata": {},
     "output_type": "execute_result"
    }
   ],
   "source": [
    "44 - 5.99*np.log(700) + .15*np.log(.8)"
   ]
  },
  {
   "cell_type": "code",
   "execution_count": 8,
   "metadata": {},
   "outputs": [
    {
     "data": {
      "text/plain": [
       "4.6659547785823925"
      ]
     },
     "execution_count": 8,
     "metadata": {},
     "output_type": "execute_result"
    }
   ],
   "source": [
    "44 - 5.99*np.log(707) + .15*np.log(.8)"
   ]
  },
  {
   "cell_type": "markdown",
   "metadata": {},
   "source": [
    "- log(LTV): A one percent increase in LTV (say: 50% to 50.5%), is associated with a 0.0015 p.p. decline in int rate, **holding log(credit score) constant*"
   ]
  },
  {
   "cell_type": "markdown",
   "metadata": {},
   "source": [
    "Model 6 - ryan and ziggy - impact of changes of credit score"
   ]
  },
  {
   "cell_type": "markdown",
   "metadata": {},
   "source": [
    "Model 6: \n",
    "- credit score: A one percent increase in credit score, is associated with\n",
    "   - a 0.032 p.p. decline in int rate if log(LTV) = 0\n",
    "   - a _____ p.p. decline in int rate if log(LTV) = #\n",
    "- interaction term: \n",
    "- If score = 700, 5.67% int\n",
    "- If 707 --> 5.61 (X up one %) (x down 6b.p.)"
   ]
  },
  {
   "cell_type": "code",
   "execution_count": 10,
   "metadata": {},
   "outputs": [
    {
     "data": {
      "text/plain": [
       "4.921590150945223"
      ]
     },
     "execution_count": 10,
     "metadata": {},
     "output_type": "execute_result"
    }
   ],
   "source": [
    "-16 +3.2*np.log(700) + 14.6 *np.log(.8) - 2.2*np.log(700) *np.log(.8) "
   ]
  },
  {
   "cell_type": "code",
   "execution_count": 11,
   "metadata": {},
   "outputs": [
    {
     "data": {
      "text/plain": [
       "4.958315984434684"
      ]
     },
     "execution_count": 11,
     "metadata": {},
     "output_type": "execute_result"
    }
   ],
   "source": [
    "-16 +3.2*np.log(707) + 14.6 *np.log(.8) - 2.2*np.log(707) *np.log(.8) "
   ]
  },
  {
   "cell_type": "markdown",
   "metadata": {},
   "source": [
    "Model 7 - front right \n",
    "\n",
    "Board work!"
   ]
  },
  {
   "cell_type": "markdown",
   "metadata": {},
   "source": [
    "Model 8 - catty corner rivalry \n",
    "\n",
    "Board work!"
   ]
  },
  {
   "cell_type": "code",
   "execution_count": 14,
   "metadata": {},
   "outputs": [
    {
     "data": {
      "text/html": [
       "<table class=\"simpletable\">\n",
       "<caption>OLS Regression Results</caption>\n",
       "<tr>\n",
       "  <th>Dep. Variable:</th>           <td>int</td>       <th>  R-squared:         </th>  <td>   0.150</td>  \n",
       "</tr>\n",
       "<tr>\n",
       "  <th>Model:</th>                   <td>OLS</td>       <th>  Adj. R-squared:    </th>  <td>   0.150</td>  \n",
       "</tr>\n",
       "<tr>\n",
       "  <th>Method:</th>             <td>Least Squares</td>  <th>  F-statistic:       </th>  <td>   2370.</td>  \n",
       "</tr>\n",
       "<tr>\n",
       "  <th>Date:</th>             <td>Wed, 27 Mar 2024</td> <th>  Prob (F-statistic):</th>   <td>  0.00</td>   \n",
       "</tr>\n",
       "<tr>\n",
       "  <th>Time:</th>                 <td>13:07:56</td>     <th>  Log-Likelihood:    </th> <td>-1.0719e+05</td>\n",
       "</tr>\n",
       "<tr>\n",
       "  <th>No. Observations:</th>      <td> 67157</td>      <th>  AIC:               </th>  <td>2.144e+05</td> \n",
       "</tr>\n",
       "<tr>\n",
       "  <th>Df Residuals:</th>          <td> 67151</td>      <th>  BIC:               </th>  <td>2.145e+05</td> \n",
       "</tr>\n",
       "<tr>\n",
       "  <th>Df Model:</th>              <td>     5</td>      <th>                     </th>      <td> </td>     \n",
       "</tr>\n",
       "<tr>\n",
       "  <th>Covariance Type:</th>      <td>nonrobust</td>    <th>                     </th>      <td> </td>     \n",
       "</tr>\n",
       "</table>\n",
       "<table class=\"simpletable\">\n",
       "<tr>\n",
       "                    <td></td>                      <th>coef</th>     <th>std err</th>      <th>t</th>      <th>P>|t|</th>  <th>[0.025</th>    <th>0.975]</th>  \n",
       "</tr>\n",
       "<tr>\n",
       "  <th>C(creditbins)[Very Poor]</th>             <td>   10.8346</td> <td>    0.111</td> <td>   97.204</td> <td> 0.000</td> <td>   10.616</td> <td>   11.053</td>\n",
       "</tr>\n",
       "<tr>\n",
       "  <th>C(creditbins)[Fair]</th>                  <td>   10.6141</td> <td>    0.087</td> <td>  121.393</td> <td> 0.000</td> <td>   10.443</td> <td>   10.786</td>\n",
       "</tr>\n",
       "<tr>\n",
       "  <th>C(creditbins)[Good]</th>                  <td>   10.4258</td> <td>    0.093</td> <td>  112.210</td> <td> 0.000</td> <td>   10.244</td> <td>   10.608</td>\n",
       "</tr>\n",
       "<tr>\n",
       "  <th>C(creditbins)[Very Good]</th>             <td>   10.2787</td> <td>    0.099</td> <td>  103.984</td> <td> 0.000</td> <td>   10.085</td> <td>   10.472</td>\n",
       "</tr>\n",
       "<tr>\n",
       "  <th>C(creditbins)[Exceptional]</th>           <td>    9.8752</td> <td>    0.103</td> <td>   95.922</td> <td> 0.000</td> <td>    9.673</td> <td>   10.077</td>\n",
       "</tr>\n",
       "<tr>\n",
       "  <th>Borrower_Credit_Score_at_Origination</th> <td>   -0.0069</td> <td>    0.000</td> <td>  -53.522</td> <td> 0.000</td> <td>   -0.007</td> <td>   -0.007</td>\n",
       "</tr>\n",
       "</table>\n",
       "<table class=\"simpletable\">\n",
       "<tr>\n",
       "  <th>Omnibus:</th>       <td>1473.645</td> <th>  Durbin-Watson:     </th> <td>   0.436</td>\n",
       "</tr>\n",
       "<tr>\n",
       "  <th>Prob(Omnibus):</th>  <td> 0.000</td>  <th>  Jarque-Bera (JB):  </th> <td>1529.539</td>\n",
       "</tr>\n",
       "<tr>\n",
       "  <th>Skew:</th>           <td> 0.356</td>  <th>  Prob(JB):          </th> <td>    0.00</td>\n",
       "</tr>\n",
       "<tr>\n",
       "  <th>Kurtosis:</th>       <td> 2.802</td>  <th>  Cond. No.          </th> <td>3.39e+04</td>\n",
       "</tr>\n",
       "</table><br/><br/>Notes:<br/>[1] Standard Errors assume that the covariance matrix of the errors is correctly specified.<br/>[2] The condition number is large, 3.39e+04. This might indicate that there are<br/>strong multicollinearity or other numerical problems."
      ],
      "text/latex": [
       "\\begin{center}\n",
       "\\begin{tabular}{lclc}\n",
       "\\toprule\n",
       "\\textbf{Dep. Variable:}                           &       int        & \\textbf{  R-squared:         } &      0.150   \\\\\n",
       "\\textbf{Model:}                                   &       OLS        & \\textbf{  Adj. R-squared:    } &      0.150   \\\\\n",
       "\\textbf{Method:}                                  &  Least Squares   & \\textbf{  F-statistic:       } &      2370.   \\\\\n",
       "\\textbf{Date:}                                    & Wed, 27 Mar 2024 & \\textbf{  Prob (F-statistic):} &      0.00    \\\\\n",
       "\\textbf{Time:}                                    &     13:07:56     & \\textbf{  Log-Likelihood:    } & -1.0719e+05  \\\\\n",
       "\\textbf{No. Observations:}                        &       67157      & \\textbf{  AIC:               } &  2.144e+05   \\\\\n",
       "\\textbf{Df Residuals:}                            &       67151      & \\textbf{  BIC:               } &  2.145e+05   \\\\\n",
       "\\textbf{Df Model:}                                &           5      & \\textbf{                     } &              \\\\\n",
       "\\textbf{Covariance Type:}                         &    nonrobust     & \\textbf{                     } &              \\\\\n",
       "\\bottomrule\n",
       "\\end{tabular}\n",
       "\\begin{tabular}{lcccccc}\n",
       "                                                  & \\textbf{coef} & \\textbf{std err} & \\textbf{t} & \\textbf{P$> |$t$|$} & \\textbf{[0.025} & \\textbf{0.975]}  \\\\\n",
       "\\midrule\n",
       "\\textbf{C(creditbins)[Very Poor]}                 &      10.8346  &        0.111     &    97.204  &         0.000        &       10.616    &       11.053     \\\\\n",
       "\\textbf{C(creditbins)[Fair]}                      &      10.6141  &        0.087     &   121.393  &         0.000        &       10.443    &       10.786     \\\\\n",
       "\\textbf{C(creditbins)[Good]}                      &      10.4258  &        0.093     &   112.210  &         0.000        &       10.244    &       10.608     \\\\\n",
       "\\textbf{C(creditbins)[Very Good]}                 &      10.2787  &        0.099     &   103.984  &         0.000        &       10.085    &       10.472     \\\\\n",
       "\\textbf{C(creditbins)[Exceptional]}               &       9.8752  &        0.103     &    95.922  &         0.000        &        9.673    &       10.077     \\\\\n",
       "\\textbf{Borrower\\_Credit\\_Score\\_at\\_Origination} &      -0.0069  &        0.000     &   -53.522  &         0.000        &       -0.007    &       -0.007     \\\\\n",
       "\\bottomrule\n",
       "\\end{tabular}\n",
       "\\begin{tabular}{lclc}\n",
       "\\textbf{Omnibus:}       & 1473.645 & \\textbf{  Durbin-Watson:     } &    0.436  \\\\\n",
       "\\textbf{Prob(Omnibus):} &   0.000  & \\textbf{  Jarque-Bera (JB):  } & 1529.539  \\\\\n",
       "\\textbf{Skew:}          &   0.356  & \\textbf{  Prob(JB):          } &     0.00  \\\\\n",
       "\\textbf{Kurtosis:}      &   2.802  & \\textbf{  Cond. No.          } & 3.39e+04  \\\\\n",
       "\\bottomrule\n",
       "\\end{tabular}\n",
       "%\\caption{OLS Regression Results}\n",
       "\\end{center}\n",
       "\n",
       "Notes: \\newline\n",
       " [1] Standard Errors assume that the covariance matrix of the errors is correctly specified. \\newline\n",
       " [2] The condition number is large, 3.39e+04. This might indicate that there are \\newline\n",
       " strong multicollinearity or other numerical problems."
      ],
      "text/plain": [
       "<class 'statsmodels.iolib.summary.Summary'>\n",
       "\"\"\"\n",
       "                            OLS Regression Results                            \n",
       "==============================================================================\n",
       "Dep. Variable:                    int   R-squared:                       0.150\n",
       "Model:                            OLS   Adj. R-squared:                  0.150\n",
       "Method:                 Least Squares   F-statistic:                     2370.\n",
       "Date:                Wed, 27 Mar 2024   Prob (F-statistic):               0.00\n",
       "Time:                        13:07:56   Log-Likelihood:            -1.0719e+05\n",
       "No. Observations:               67157   AIC:                         2.144e+05\n",
       "Df Residuals:                   67151   BIC:                         2.145e+05\n",
       "Df Model:                           5                                         \n",
       "Covariance Type:            nonrobust                                         \n",
       "========================================================================================================\n",
       "                                           coef    std err          t      P>|t|      [0.025      0.975]\n",
       "--------------------------------------------------------------------------------------------------------\n",
       "C(creditbins)[Very Poor]                10.8346      0.111     97.204      0.000      10.616      11.053\n",
       "C(creditbins)[Fair]                     10.6141      0.087    121.393      0.000      10.443      10.786\n",
       "C(creditbins)[Good]                     10.4258      0.093    112.210      0.000      10.244      10.608\n",
       "C(creditbins)[Very Good]                10.2787      0.099    103.984      0.000      10.085      10.472\n",
       "C(creditbins)[Exceptional]               9.8752      0.103     95.922      0.000       9.673      10.077\n",
       "Borrower_Credit_Score_at_Origination    -0.0069      0.000    -53.522      0.000      -0.007      -0.007\n",
       "==============================================================================\n",
       "Omnibus:                     1473.645   Durbin-Watson:                   0.436\n",
       "Prob(Omnibus):                  0.000   Jarque-Bera (JB):             1529.539\n",
       "Skew:                           0.356   Prob(JB):                         0.00\n",
       "Kurtosis:                       2.802   Cond. No.                     3.39e+04\n",
       "==============================================================================\n",
       "\n",
       "Notes:\n",
       "[1] Standard Errors assume that the covariance matrix of the errors is correctly specified.\n",
       "[2] The condition number is large, 3.39e+04. This might indicate that there are\n",
       "strong multicollinearity or other numerical problems.\n",
       "\"\"\""
      ]
     },
     "execution_count": 14,
     "metadata": {},
     "output_type": "execute_result"
    }
   ],
   "source": [
    "sm_ols('int ~  C(creditbins)  -1 + Borrower_Credit_Score_at_Origination', data=fannie_mae).fit().summary()"
   ]
  },
  {
   "cell_type": "code",
   "execution_count": 15,
   "metadata": {},
   "outputs": [
    {
     "data": {
      "text/plain": [
       "6.804900000000001"
      ]
     },
     "execution_count": 15,
     "metadata": {},
     "output_type": "execute_result"
    }
   ],
   "source": [
    "10.8-579*0.0069"
   ]
  },
  {
   "cell_type": "code",
   "execution_count": 16,
   "metadata": {},
   "outputs": [
    {
     "data": {
      "text/plain": [
       "6.598"
      ]
     },
     "execution_count": 16,
     "metadata": {},
     "output_type": "execute_result"
    }
   ],
   "source": [
    "10.6-580*0.0069"
   ]
  },
  {
   "cell_type": "markdown",
   "metadata": {},
   "source": [
    "## Plot m1-m4"
   ]
  },
  {
   "cell_type": "code",
   "execution_count": 16,
   "metadata": {},
   "outputs": [
    {
     "data": {
      "text/plain": [
       "0         5.860809\n",
       "1         5.655570\n",
       "2         5.245091\n",
       "3         4.706338\n",
       "4         5.954878\n",
       "            ...   \n",
       "135033    5.450331\n",
       "135034    5.792396\n",
       "135035    4.843164\n",
       "135036    6.271288\n",
       "135037    5.937774\n",
       "Length: 135038, dtype: float64"
      ]
     },
     "execution_count": 16,
     "metadata": {},
     "output_type": "execute_result"
    }
   ],
   "source": [
    "reg1.predict(fannie_mae['Borrower_Credit_Score_at_Origination'])"
   ]
  },
  {
   "cell_type": "code",
   "execution_count": 17,
   "metadata": {},
   "outputs": [],
   "source": [
    "subset = fannie_mae.dropna(subset=['Borrower_Credit_Score_at_Origination','l_credscore']).copy()\n",
    "\n",
    "subset['r1'] = reg1.predict(fannie_mae['Borrower_Credit_Score_at_Origination'])\n",
    "subset['r2'] = reg1b.predict(fannie_mae['l_credscore'])\n",
    "subset['r3'] = reg1c.predict(fannie_mae['Borrower_Credit_Score_at_Origination'])\n",
    "subset['r4'] = reg1d.predict(fannie_mae['l_credscore'])"
   ]
  },
  {
   "cell_type": "code",
   "execution_count": 18,
   "metadata": {
    "scrolled": true
   },
   "outputs": [
    {
     "data": {
      "text/plain": [
       "<Axes: xlabel='Borrower_Credit_Score_at_Origination'>"
      ]
     },
     "execution_count": 18,
     "metadata": {},
     "output_type": "execute_result"
    },
    {
     "data": {
      "image/png": "[encoded data removed]",
      "text/plain": [
       "<Figure size 640x480 with 1 Axes>"
      ]
     },
     "metadata": {},
     "output_type": "display_data"
    }
   ],
   "source": [
    "subset[['r1','r2','r3','r4','Borrower_Credit_Score_at_Origination']].sort_values('Borrower_Credit_Score_at_Origination').set_index('Borrower_Credit_Score_at_Origination').plot()\n",
    "\n"
   ]
  }
 ],
 "metadata": {
  "kernelspec": {
   "display_name": "Python 3 (ipykernel)",
   "language": "python",
   "name": "python3"
  },
  "language_info": {
   "codemirror_mode": {
    "name": "ipython",
    "version": 3
   },
   "file_extension": ".py",
   "mimetype": "text/x-python",
   "name": "python",
   "nbconvert_exporter": "python",
   "pygments_lexer": "ipython3",
   "version": "3.11.5"
  }
 },
 "nbformat": 4,
 "nbformat_minor": 4
}
