{
 "cells": [
  {
   "cell_type": "markdown",
   "id": "16b3e546-296c-4d7e-b8c3-cac7280db97f",
   "metadata": {},
   "source": [
    "# Title\n",
    "\n",
    "_This is a simple starting template you can use when building out a new prediction model._\n",
    "\n",
    "_Eventually, delete these italicized paragraphs and put your introduction and summary of results here. Below, work through each part, and eventually polish the code/markdown. (Meaning: Delete the notes I'm leaving behind and replace them with discussion relevant to your analysis!)_"
   ]
  },
  {
   "cell_type": "code",
   "execution_count": null,
   "id": "79e89ce9-eaef-462d-b517-99acae29a382",
   "metadata": {},
   "outputs": [],
   "source": [
    "# put all your imports here"
   ]
  },
  {
   "cell_type": "markdown",
   "id": "95cdaf8d-899f-41f5-b520-79da9c5284d5",
   "metadata": {},
   "source": [
    "## Load data "
   ]
  },
  {
   "cell_type": "code",
   "execution_count": null,
   "id": "2e8ccb8c-f508-4022-bbca-f3a03311a038",
   "metadata": {},
   "outputs": [],
   "source": [
    "# put code here"
   ]
  },
  {
   "cell_type": "markdown",
   "id": "4d81a81b-7e5d-4483-a987-90e2fd8c70d3",
   "metadata": {},
   "source": [
    "## Create the training and holdout samples\n",
    "\n",
    "Split your data into test and train. Your options:\n",
    "- [sklearn has some built in splitters](https://scikit-learn.org/stable/modules/cross_validation.html)\n",
    "- [`test_train_split`](https://scikit-learn.org/stable/modules/generated/sklearn.model_selection.train_test_split.html) can do basic splits, but may not be appropriate\n",
    "    - _test_ is the typical sklearn vernacular, on the website I call this this holdout sample\n",
    "- You can just keep the most recent time period of your samples in the holdout and put the rest into the training data."
   ]
  },
  {
   "cell_type": "code",
   "execution_count": null,
   "id": "dcfcdc92-67e6-44ef-b963-078ae55caf2e",
   "metadata": {},
   "outputs": [],
   "source": [
    "# put code here"
   ]
  },
  {
   "cell_type": "markdown",
   "id": "d0e7e8a4-0496-4706-8c20-4ab4b4754642",
   "metadata": {},
   "source": [
    "## EDA\n",
    "\n",
    "On the **TRAINING DATA ONLY**: \n",
    "- do lots of EDA\n",
    "- look for missing values, which variables are what type, and outliers \n",
    "- figure out how you'd clean the data (imputation, scaling, encoding categorical vars)\n",
    "- these lessons will go into the preprocessinG portion of your pipeline \n",
    "- PRO TIP: `pandas-profiling` and `dabl` build automated reports. Which is nice, but remember you need to examine them closely! **There is no shortcut for EDA.**"
   ]
  },
  {
   "cell_type": "code",
   "execution_count": null,
   "id": "e4a50f9b-9773-4149-9bb2-3145e1e58b9d",
   "metadata": {},
   "outputs": [],
   "source": [
    "# put code here"
   ]
  },
  {
   "cell_type": "markdown",
   "id": "ee6898bb-657f-4c54-82c5-107fa86ce952",
   "metadata": {},
   "source": [
    "## Optimize a series of models \n",
    "\n",
    "### Model 1\n",
    "\n",
    "The broad steps:\n",
    "\n",
    "1. Set up one pipeline for cleaning each type of variable (1 pipe per var type)\n",
    "1. Combine those pipelines into one total \"preprocessing\" pipeline\n",
    "1. Set up the full pipeline (combines preprocessing, feature creation, feature selection, and final estimator)\n",
    "    - Feature creation will increase the complexity of the model\n",
    "    - Feature selection (only using some X variables) will decrease the complexity of the model\n",
    "1. Set up cv method (can set up iterable to do OOS! or TimeSeriesSplit, or...)\n",
    "1. Set up how you will score the model\n",
    "1. Optimizing the model\n",
    "    1. Print out the pipeline and consider which parameters you'll try different values for\n",
    "    1. Set up your \"hyperparameter grid\" (the set of all parameter values you want to try)\n",
    "    1. Use `gridsearchcv` to run the model with all combinations of hyperparameters \n",
    "    1. Choose between them while considering bias-variance tradeoff!\n",
    "1. Save pipeline with optimal parameters in place\n",
    "\n",
    "Additionally, should spend time interrogating model predictions, plotting and printing. Does the model struggle predicting certain observations? Maybe a different type of model can do better on those observations.\n"
   ]
  },
  {
   "cell_type": "code",
   "execution_count": null,
   "id": "b3f965ae-8a8b-4e4a-8983-d37f5bc37875",
   "metadata": {},
   "outputs": [],
   "source": [
    "# put code here"
   ]
  },
  {
   "cell_type": "markdown",
   "id": "d7a6cc4a-6bfd-4dd9-afe6-20777daac0b4",
   "metadata": {
    "tags": []
   },
   "source": [
    "### Model 2\n",
    "\n",
    "Repeat the steps above, but for a different \"model\".\n",
    "- This might mean a different _kind_ of estimator, \n",
    "- or a different approach to creating variables,\n",
    "- or a different approach to selecting/reducing variables,\n",
    "- or a different approach to preprocessing the variables"
   ]
  },
  {
   "cell_type": "code",
   "execution_count": null,
   "id": "ef801a56-531b-407b-b691-f26b902b35b3",
   "metadata": {},
   "outputs": [],
   "source": [
    "# put code here"
   ]
  },
  {
   "cell_type": "markdown",
   "id": "fd4e1000-9435-4619-84cb-6f6c5f23c701",
   "metadata": {
    "tags": []
   },
   "source": [
    "### Model _N_\n",
    "\n",
    "Try _N_ more models, repeating the steps above each time."
   ]
  },
  {
   "cell_type": "code",
   "execution_count": null,
   "id": "0f690bbd-6856-4f74-ac5d-c3d042a9fa8f",
   "metadata": {},
   "outputs": [],
   "source": [
    "# put code here"
   ]
  },
  {
   "cell_type": "markdown",
   "id": "f7c35a95-28fd-4c75-9eeb-eda91707217d",
   "metadata": {},
   "source": [
    "## Pick your favorite model or ensemble from your _N_ optimized models\n",
    "\n",
    "### A **very** simplistic way\n",
    "\n",
    "Build a `list` of models (each with its own optimized hyperparams). Then, \n",
    "\n",
    "```python\n",
    "for model in models:\n",
    "    print(cross_validate(model, X, y, ...)['test_score'].mean())\n",
    "```\n",
    "\n",
    "From this, you pick your favorite model!\n",
    "\n",
    "Except this code above only considers the model's `mean()` prediction scores. Meaning, it does not consider **MODEL VARIANCE**.\n",
    "\n",
    "### Better ways\n",
    "\n",
    "1. Examine the bias-variance tradeoff for each model: Output the mean and variance of each model and plot them as a scatterplot.\n",
    "1. Build an ensemble to combine your estimator's strength (model average, model stacking, etc)\n",
    "    - PRO TIP: You should compare any ensemble model you make against the others by adding it to your `list` of `models`\n"
   ]
  },
  {
   "cell_type": "code",
   "execution_count": null,
   "id": "a35d3d7c-dfda-4784-8dc5-489a3dba517e",
   "metadata": {},
   "outputs": [],
   "source": [
    "# put code here"
   ]
  },
  {
   "cell_type": "markdown",
   "id": "1674004f-390c-4275-bf74-60b6c3fc8839",
   "metadata": {},
   "source": [
    "## Final evaluation on the holdout sample\n",
    "\n",
    "### ONE TIME ONLY\n",
    "\n",
    "After you choose your favorite model,\n",
    "1. Fit that model (with all of its hyperparameters) on ALL of `X_train` and `y_train`.\n",
    "1. See how it does on the holdout sample:\n",
    "    - Use `y_pred = <finalmodel>.predict(X_test)` to generate predictions on the holdout \n",
    "    - Use your scoring metric to compare `y_pred` and `y_test` and print the result!\n",
    "   \n",
    "Remember, **YOU ONLY GET TO DO THIS ONE TIME!**   \n",
    "   \n",
    "Now, you're done! Print out the results, write your report and polish it."
   ]
  }
 ],
 "metadata": {
  "kernelspec": {
   "display_name": "Python 3 (ipykernel)",
   "language": "python",
   "name": "python3"
  },
  "language_info": {
   "codemirror_mode": {
    "name": "ipython",
    "version": 3
   },
   "file_extension": ".py",
   "mimetype": "text/x-python",
   "name": "python",
   "nbconvert_exporter": "python",
   "pygments_lexer": "ipython3",
   "version": "3.11.5"
  }
 },
 "nbformat": 4,
 "nbformat_minor": 5
}
