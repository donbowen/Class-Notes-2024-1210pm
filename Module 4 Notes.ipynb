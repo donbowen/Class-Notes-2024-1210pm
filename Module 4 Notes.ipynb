{
 "cells": [
  {
   "cell_type": "markdown",
   "id": "a535edfb-ecd9-45d5-98e2-e15cb6c2101d",
   "metadata": {
    "tags": []
   },
   "source": [
    "# Module 4 - Prediction Models and Data Analysis\n",
    "\n",
    "_My suggested use for this file is as an extra tab you keep open on the right side of your JupyterLab screen, and treat it like a notepad you'd use in a classroom. The left half of the screen will be good for files that have involved coding that should be stand alone files._\n",
    "\n",
    "## Skills AND CONCEPTS to learn in this Module \n",
    "\n",
    "You can find the tasks for this module [on the dashboard page]. \n",
    "\n",
    "Below are the key skills and concepts I want you to learn in this module in _roughly_ the order we will cover them. \n",
    "\n",
    "_**Note: This list is the key stuff, but not everything. We are scraping the surface **_\n",
    "- [ ] Modeling\n",
    "    - [ ] explore the modeling process\n",
    "    - [ ] determine appropriate models to use based on modeling objectives\n",
    "- [ ] Regression\n",
    "    - [ ] learn basic notation and terminology for regression models\n",
    "    - [ ] fit a regression with `statsmodels` and/or `sklearn`\n",
    "    - [ ] interpret mechanical meanings of coefficients for different variable types\n",
    "    - [ ] measure goodness of fit on a regression\n",
    "    - [ ] what does statistical significance tell us and not tell us\n",
    "- [ ] `sklearn` and Machine Learning\n",
    "    - [ ] understand objectives and development process of machine learning models\n",
    "    - [ ] you evaluate models using \"scoring metrics\"\n",
    "    - [ ] develop your intuition about how to select which metric fits a given problem\n",
    "    - [ ] understand mechanics of fitting models \n",
    "    - [ ] best practices for training ML models without leakage"
   ]
  },
  {
   "cell_type": "markdown",
   "id": "c1d54e07-35a9-445b-95b8-6ff57f1a779d",
   "metadata": {
    "tags": []
   },
   "source": [
    "## Modeling Notes"
   ]
  },
  {
   "cell_type": "code",
   "execution_count": null,
   "id": "ecefd480-e0a1-41e8-8fd5-ddc9457cd102",
   "metadata": {},
   "outputs": [],
   "source": [
    "put your notes here"
   ]
  },
  {
   "cell_type": "markdown",
   "id": "2230a1ae-8ecd-4e48-b82f-aeb490b70e0b",
   "metadata": {},
   "source": [
    "## Regression Notes"
   ]
  },
  {
   "cell_type": "markdown",
   "id": "f9468367-6577-4a87-8e2a-a2b7664c3022",
   "metadata": {},
   "source": [
    "- R2 is a measure of how well the model fits the dataset\n",
    "   - USUALLY: from 0 to 1\n",
    "   - R2 near 0: can be a problem\n",
    "   - R2 near 1: can be a problem\n",
    "   - R2 of 1: oops or waste of time\n",
    "   - R2 below 0: means you're predicting stock prices :)\n",
    "   - \"Whats a good value\"? Find some existing research on that outcome variable and see their R2 "
   ]
  },
  {
   "cell_type": "markdown",
   "id": "85c2d24a-8f58-4533-95e4-fa0441320517",
   "metadata": {},
   "source": [
    "- Figuring out the economics of the coefficients\n",
    "   - Direction (positive or negative)\n",
    "   - Magnitude\n",
    "   - \"\"\"Statistical significance\"\"\"\n",
    "   - Causality - take an econometrics class . In this class: \"x is associated with y\" (mealy mouthed way to avoid saying causal)  "
   ]
  },
  {
   "cell_type": "markdown",
   "id": "39481a76-875e-43c9-b6d0-783532be7c53",
   "metadata": {},
   "source": [
    "- Interpreting coefficients\n",
    "   - What kind of variable is Y (logged, or not)\n",
    "   - What kind of variable is X (logged, or not) (if not: continuous, binary, categorical)\n",
    "   - Is X interacted with other variables\n",
    "   - Are there other variables in the model\n",
    "   - Are there categorical variables in the model\n",
    " \n",
    "- Interpreting a coefficient is basically mechanical\n",
    "    - figure out form of Y\n",
    "    - figure out form of the X whose coef you want to interpret\n",
    "    - the \"word salad\" interpretation is a script - somewhere on 6.4. fill in the blank\n",
    "    - changes a bit if there are other controls, and if any other controls are categorical variables\n",
    "    - \"Intuitively, you can think of b in a model ($y=a+b*x+C(category)$) with other categorical variables as \"“comparingobservationss in the samecategory\" or \"controlling for categorical factors\" "
   ]
  },
  {
   "cell_type": "raw",
   "id": "c498b29e-f340-4f87-8997-4df825229cf8",
   "metadata": {
    "tags": []
   },
   "source": [
    "## Machine Learning Notes"
   ]
  },
  {
   "cell_type": "code",
   "execution_count": null,
   "id": "0045599c-a5c9-4aee-a177-ffed01f525c7",
   "metadata": {},
   "outputs": [],
   "source": [
    "put your notes here"
   ]
  }
 ],
 "metadata": {
  "kernelspec": {
   "display_name": "Python 3 (ipykernel)",
   "language": "python",
   "name": "python3"
  },
  "language_info": {
   "codemirror_mode": {
    "name": "ipython",
    "version": 3
   },
   "file_extension": ".py",
   "mimetype": "text/x-python",
   "name": "python",
   "nbconvert_exporter": "python",
   "pygments_lexer": "ipython3",
   "version": "3.11.5"
  }
 },
 "nbformat": 4,
 "nbformat_minor": 5
}
